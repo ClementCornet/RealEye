{
 "cells": [
  {
   "cell_type": "markdown",
   "id": "bb29e6d8",
   "metadata": {},
   "source": [
    "### Imports"
   ]
  },
  {
   "cell_type": "code",
   "execution_count": 1,
   "id": "0806537f",
   "metadata": {},
   "outputs": [
    {
     "name": "stdout",
     "output_type": "stream",
     "text": [
      "Requirement already satisfied: torch in c:\\users\\cleme\\anaconda3\\lib\\site-packages (1.10.2)\n",
      "Requirement already satisfied: typing_extensions in c:\\users\\cleme\\anaconda3\\lib\\site-packages (from torch) (3.10.0.2)\n",
      "Requirement already satisfied: opencv-python in c:\\users\\cleme\\anaconda3\\lib\\site-packages (4.5.5.62)\n",
      "Requirement already satisfied: numpy>=1.17.3 in c:\\users\\cleme\\anaconda3\\lib\\site-packages (from opencv-python) (1.21.0)\n",
      "Requirement already satisfied: matplotlib in c:\\users\\cleme\\anaconda3\\lib\\site-packages (3.4.3)\n",
      "Requirement already satisfied: kiwisolver>=1.0.1 in c:\\users\\cleme\\anaconda3\\lib\\site-packages (from matplotlib) (1.3.1)\n",
      "Requirement already satisfied: pillow>=6.2.0 in c:\\users\\cleme\\anaconda3\\lib\\site-packages (from matplotlib) (8.4.0)\n",
      "Requirement already satisfied: cycler>=0.10 in c:\\users\\cleme\\anaconda3\\lib\\site-packages (from matplotlib) (0.10.0)\n",
      "Requirement already satisfied: python-dateutil>=2.7 in c:\\users\\cleme\\anaconda3\\lib\\site-packages (from matplotlib) (2.8.2)\n",
      "Requirement already satisfied: pyparsing>=2.2.1 in c:\\users\\cleme\\anaconda3\\lib\\site-packages (from matplotlib) (3.0.4)\n",
      "Requirement already satisfied: numpy>=1.16 in c:\\users\\cleme\\anaconda3\\lib\\site-packages (from matplotlib) (1.21.0)\n",
      "Requirement already satisfied: six in c:\\users\\cleme\\anaconda3\\lib\\site-packages (from cycler>=0.10->matplotlib) (1.16.0)\n",
      "Requirement already satisfied: numpy in c:\\users\\cleme\\anaconda3\\lib\\site-packages (1.21.0)\n",
      "Requirement already satisfied: screen-brightness-control in c:\\users\\cleme\\anaconda3\\lib\\site-packages (0.11.5)\n",
      "Requirement already satisfied: wmi in c:\\users\\cleme\\anaconda3\\lib\\site-packages (from screen-brightness-control) (1.5.1)\n",
      "Requirement already satisfied: pywin32 in c:\\users\\cleme\\anaconda3\\lib\\site-packages (from wmi->screen-brightness-control) (302)\n",
      "Requirement already satisfied: timeloop in c:\\users\\cleme\\anaconda3\\lib\\site-packages (1.0.2)\n"
     ]
    }
   ],
   "source": [
    "!pip3 install torch\n",
    "!pip install opencv-python\n",
    "!pip install matplotlib\n",
    "!pip install numpy\n",
    "!pip install screen-brightness-control\n",
    "!pip install timeloop"
   ]
  },
  {
   "cell_type": "code",
   "execution_count": 2,
   "id": "bc4ae590",
   "metadata": {},
   "outputs": [],
   "source": [
    "import torch # PyTorch, charger le modèle\n",
    "from matplotlib import pyplot as plt # Affichage statique des résultats\n",
    "import numpy as np # Traitement des résultats\n",
    "import cv2 # OpenCV, accès Webcam\n",
    "import time\n",
    "import screen_brightness_control as sbc # Changement de Luminosité\n",
    "import os\n",
    "from timeloop import Timeloop # Exécution périodique en arrière plan\n",
    "from datetime import timedelta\n",
    "from nightlight import * # Lumière Nocturne"
   ]
  },
  {
   "cell_type": "markdown",
   "id": "3a694886",
   "metadata": {},
   "source": [
    "### Import du modèle"
   ]
  },
  {
   "cell_type": "code",
   "execution_count": 3,
   "id": "2757ad1c",
   "metadata": {},
   "outputs": [
    {
     "name": "stderr",
     "output_type": "stream",
     "text": [
      "Downloading: \"https://github.com/ultralytics/yolov5/archive/master.zip\" to C:\\Users\\cleme/.cache\\torch\\hub\\master.zip\n",
      "YOLOv5  2022-6-3 Python-3.9.7 torch-1.10.2 CPU\n",
      "\n",
      "Fusing layers... \n",
      "Model summary: 213 layers, 7055974 parameters, 0 gradients, 15.9 GFLOPs\n",
      "Adding AutoShape... \n"
     ]
    }
   ],
   "source": [
    "model = torch.hub.load('ultralytics/yolov5','custom',path='best.pt',force_reload=True)"
   ]
  },
  {
   "cell_type": "markdown",
   "id": "628f5e2e",
   "metadata": {},
   "source": [
    "### Affichage Webcam"
   ]
  },
  {
   "cell_type": "code",
   "execution_count": 4,
   "id": "b2cac62e",
   "metadata": {},
   "outputs": [],
   "source": [
    "cap = cv2.VideoCapture(0)\n",
    "while cap.isOpened():\n",
    "    ret, frame = cap.read()\n",
    "    \n",
    "    results = model(frame)\n",
    "    \n",
    "    cv2.imshow('Test Drowsiness', np.squeeze(results.render()))\n",
    "    \n",
    "    if cv2.waitKey(10) & 0xff == ord('q'):\n",
    "        break\n",
    "cap.release()\n",
    "cv2.destroyAllWindows()"
   ]
  },
  {
   "cell_type": "code",
   "execution_count": 6,
   "id": "64c3e141",
   "metadata": {},
   "outputs": [
    {
     "name": "stdout",
     "output_type": "stream",
     "text": [
      "image 1/1: 406x608 1 awake\n",
      "Speed: 29.5ms pre-process, 102.0ms inference, 1.0ms NMS per image at shape (1, 3, 448, 640)\n"
     ]
    },
    {
     "data": {
      "image/png": "[encoded data removed]",
      "text/plain": [
       "<Figure size 432x288 with 1 Axes>"
      ]
     },
     "metadata": {
      "needs_background": "light"
     },
     "output_type": "display_data"
    }
   ],
   "source": [
    "img = os.path.join('testawake.jpg')\n",
    "results = model(img)\n",
    "results.print()\n",
    "%matplotlib inline\n",
    "plt.imshow(np.squeeze(results.render()))\n",
    "plt.show()"
   ]
  },
  {
   "cell_type": "markdown",
   "id": "3b4def51",
   "metadata": {},
   "source": [
    "### Situation Réelle Automatisée"
   ]
  },
  {
   "cell_type": "code",
   "execution_count": 7,
   "id": "d5009a6f",
   "metadata": {},
   "outputs": [],
   "source": [
    "tl = Timeloop()\n",
    "\n",
    "@tl.job(interval=timedelta(seconds=5))\n",
    "def tick():\n",
    "    cap = cv2.VideoCapture(0)\n",
    "    t = time.time()\n",
    "    while cap.isOpened() and t-time.time() < 10:\n",
    "        ret, frame = cap.read()\n",
    "\n",
    "        results = model(frame)\n",
    "\n",
    "        #cv2.imshow('Test Drowsiness', np.squeeze(results.render()))\n",
    "\n",
    "        resultsDF = results.pandas().xyxy[0]\n",
    "        drowsy_total = resultsDF[resultsDF[\"name\"]==\"drowsy\"][\"confidence\"].sum()\n",
    "        awake_total = resultsDF[resultsDF[\"name\"]==\"awake\"][\"confidence\"].sum()\n",
    "\n",
    "        if drowsy_total >= 3 * awake_total and drowsy_total>0.6:\n",
    "            sbc.set_brightness('-30')\n",
    "            write_NL_value(change_NL_value(get_NL_key(),whatdo=\"on\"))\n",
    "            print(f\"DROWSY\\t-\\tDrowsy:{drowsy_total} | Awake:{awake_total}\")\n",
    "            break\n",
    "        else : \n",
    "            print(f\"AWAKE\\t-\\tDrowsy:{drowsy_total} | Awake:{awake_total}\")\n",
    "            write_NL_value(change_NL_value(get_NL_key(),whatdo=\"off\"))\n",
    "        break\n",
    "\n",
    "    cap.release()\n",
    "    cv2.destroyAllWindows()"
   ]
  },
  {
   "cell_type": "code",
   "execution_count": 8,
   "id": "e910659e",
   "metadata": {},
   "outputs": [
    {
     "name": "stdout",
     "output_type": "stream",
     "text": [
      "[2022-06-03 14:47:10,837] [timeloop] [INFO] Starting Timeloop..\n"
     ]
    },
    {
     "name": "stderr",
     "output_type": "stream",
     "text": [
      "Starting Timeloop..\n"
     ]
    },
    {
     "name": "stdout",
     "output_type": "stream",
     "text": [
      "[2022-06-03 14:47:10,839] [timeloop] [INFO] Registered job <function tick at 0x000002444BDD8670>\n"
     ]
    },
    {
     "name": "stderr",
     "output_type": "stream",
     "text": [
      "Registered job <function tick at 0x000002444BDD8670>\n"
     ]
    },
    {
     "name": "stdout",
     "output_type": "stream",
     "text": [
      "[2022-06-03 14:47:10,839] [timeloop] [INFO] Timeloop now started. Jobs will run based on the interval set\n"
     ]
    },
    {
     "name": "stderr",
     "output_type": "stream",
     "text": [
      "Timeloop now started. Jobs will run based on the interval set\n"
     ]
    },
    {
     "name": "stdout",
     "output_type": "stream",
     "text": [
      "DROWSY\t-\tDrowsy:0.6263056397438049 | Awake:0.0\n",
      "DROWSY\t-\tDrowsy:0.7644489407539368 | Awake:0.0\n",
      "[2022-06-03 14:47:34,988] [timeloop] [INFO] Stopping job <function tick at 0x000002444BDD8670>\n"
     ]
    },
    {
     "name": "stderr",
     "output_type": "stream",
     "text": [
      "Stopping job <function tick at 0x000002444BDD8670>\n"
     ]
    },
    {
     "name": "stdout",
     "output_type": "stream",
     "text": [
      "[2022-06-03 14:47:34,989] [timeloop] [INFO] Timeloop exited.\n"
     ]
    },
    {
     "name": "stderr",
     "output_type": "stream",
     "text": [
      "Timeloop exited.\n"
     ]
    }
   ],
   "source": [
    "tl.start(block=True)"
   ]
  }
 ],
 "metadata": {
  "kernelspec": {
   "display_name": "Python 3 (ipykernel)",
   "language": "python",
   "name": "python3"
  },
  "language_info": {
   "codemirror_mode": {
    "name": "ipython",
    "version": 3
   },
   "file_extension": ".py",
   "mimetype": "text/x-python",
   "name": "python",
   "nbconvert_exporter": "python",
   "pygments_lexer": "ipython3",
   "version": "3.9.7"
  }
 },
 "nbformat": 4,
 "nbformat_minor": 5
}
